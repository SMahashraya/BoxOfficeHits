{
 "cells": [
  {
   "cell_type": "code",
   "execution_count": 2,
   "metadata": {},
   "outputs": [
    {
     "ename": "ModuleNotFoundError",
     "evalue": "No module named 'grequests'",
     "output_type": "error",
     "traceback": [
      "\u001b[0;31m---------------------------------------------------------------------------\u001b[0m",
      "\u001b[0;31mModuleNotFoundError\u001b[0m                       Traceback (most recent call last)",
      "\u001b[0;32m<ipython-input-2-575faae3ec3e>\u001b[0m in \u001b[0;36m<module>\u001b[0;34m\u001b[0m\n\u001b[1;32m      3\u001b[0m \u001b[0;32mimport\u001b[0m \u001b[0mjson\u001b[0m\u001b[0;34m\u001b[0m\u001b[0;34m\u001b[0m\u001b[0m\n\u001b[1;32m      4\u001b[0m \u001b[0;32mimport\u001b[0m \u001b[0mtime\u001b[0m\u001b[0;34m\u001b[0m\u001b[0;34m\u001b[0m\u001b[0m\n\u001b[0;32m----> 5\u001b[0;31m \u001b[0;32mimport\u001b[0m \u001b[0mgrequests\u001b[0m\u001b[0;34m\u001b[0m\u001b[0;34m\u001b[0m\u001b[0m\n\u001b[0m\u001b[1;32m      6\u001b[0m \u001b[0;32mimport\u001b[0m \u001b[0mnumpy\u001b[0m \u001b[0;32mas\u001b[0m \u001b[0mnp\u001b[0m\u001b[0;34m\u001b[0m\u001b[0;34m\u001b[0m\u001b[0m\n\u001b[1;32m      7\u001b[0m \u001b[0;32mfrom\u001b[0m \u001b[0mPIL\u001b[0m \u001b[0;32mimport\u001b[0m \u001b[0mImage\u001b[0m\u001b[0;34m\u001b[0m\u001b[0;34m\u001b[0m\u001b[0m\n",
      "\u001b[0;31mModuleNotFoundError\u001b[0m: No module named 'grequests'"
     ]
    }
   ],
   "source": [
    "import pandas as pd\n",
    "import requests\n",
    "import json\n",
    "import time\n",
    "import grequests\n",
    "import numpy as np\n",
    "from PIL import Image\n",
    "import urllib.request\n",
    "import colorsys\n",
    "from ast import literal_eval\n",
    "from vaderSentiment.vaderSentiment import SentimentIntensityAnalyzer\n",
    "%matplotlib inline\n",
    "import matplotlib.pyplot as plt\n",
    "\n",
    "pd.set_option('display.max_columns', None) "
   ]
  },
  {
   "cell_type": "code",
   "execution_count": null,
   "metadata": {},
   "outputs": [],
   "source": [
    "movie_data = pd.read_csv(\"Movies_Data_Updated.csv\")\n",
    "movie_data = movie_data.drop('Unnamed: 0', axis=1)\n",
    "movie_data.head()"
   ]
  },
  {
   "cell_type": "code",
   "execution_count": null,
   "metadata": {},
   "outputs": [],
   "source": [
    "movie_data = movie_data.drop(movie_data.loc[movie_data[\"Movie Title\"] != movie_data[\"Title\"], :].index)\n",
    "unclean_data = movie_data.loc[movie_data[\"Movie Title\"] != movie_data[\"Title\"], :]\n",
    "unclean_data"
   ]
  },
  {
   "cell_type": "code",
   "execution_count": null,
   "metadata": {},
   "outputs": [],
   "source": [
    "dups = pd.concat(g for _, g in movie_data.groupby(\"Movie Title\") if len(g) > 1)\n",
    "dups"
   ]
  },
  {
   "cell_type": "code",
   "execution_count": null,
   "metadata": {},
   "outputs": [],
   "source": [
    "def appendData(reqs):\n",
    "    for index, row in enumerate(dups.itertuples()):\n",
    "            try:\n",
    "                item = reqs[index].json()\n",
    "                movie_data.at[row.Index, \"Title\"] = item['Title'] \n",
    "                movie_data.at[row.Index, \"Rated\"] = item['Rated'] \n",
    "                movie_data.at[row.Index, \"Released\"] = item['Released'] \n",
    "                movie_data.at[row.Index, \"Runtime\"] = item['Runtime'] \n",
    "                movie_data.at[row.Index, \"Genre\"] = item['Genre'] \n",
    "                movie_data.at[row.Index, \"Director\"] = item['Director'] \n",
    "                movie_data.at[row.Index, \"Writer\"] = item['Writer'] \n",
    "                movie_data.at[row.Index, \"Actors\"] = item['Actors'] \n",
    "                movie_data.at[row.Index, \"Plot\"] = item['Plot'] \n",
    "                movie_data.at[row.Index, \"Language\"] = item['Language'] \n",
    "                movie_data.at[row.Index, \"Country\"] = item['Country'] \n",
    "                movie_data.at[row.Index, \"Awards\"] = item['Awards'] \n",
    "                movie_data.at[row.Index, \"Poster\"] = item['Poster'] \n",
    "                movie_data.at[row.Index, \"Ratings\"] = item['Ratings'] \n",
    "                movie_data.at[row.Index, \"Metascore\"] = item['Metascore'] \n",
    "                movie_data.at[row.Index, \"imdbRating\"] = item['imdbRating'] \n",
    "                movie_data.at[row.Index, \"imdbVotes\"] = item['imdbVotes'] \n",
    "                movie_data.at[row.Index, \"imdbID\"] = item['imdbID'] \n",
    "                movie_data.at[row.Index, \"DVD\"] = item['DVD'] \n",
    "                movie_data.at[row.Index, \"BoxOffice\"] = item['BoxOffice'] \n",
    "                movie_data.at[row.Index, \"Production\"] = item['Production'] \n",
    "                movie_data.at[row.Index, \"Website\"] = item['Website'] \n",
    "\n",
    "            except: \n",
    "                print(\"Record not found\")"
   ]
  },
  {
   "cell_type": "code",
   "execution_count": null,
   "metadata": {},
   "outputs": [],
   "source": [
    "def exception_handler(request, exception):\n",
    "    print(\"Request failed\")\n",
    "\n",
    "urls = [\"http://www.omdbapi.com/?t={0}&y={1}&plot=full&apikey={2}\".format(row[2].replace(\" \", \"+\"), row[10], \"504e6438\") for row in dups.itertuples()]\n",
    "rs = (grequests.get(u) for u in urls)\n",
    "requests = grequests.map(rs, exception_handler=exception_handler, size=10)\n",
    "appendData(requests)"
   ]
  },
  {
   "cell_type": "code",
   "execution_count": null,
   "metadata": {},
   "outputs": [],
   "source": [
    "movie_data = movie_data.drop(movie_data.loc[movie_data[\"Movie Title\"] != movie_data[\"Title\"], :].index)\n",
    "movie_data = movie_data.reset_index(drop=True)\n",
    "movie_data"
   ]
  },
  {
   "cell_type": "code",
   "execution_count": null,
   "metadata": {},
   "outputs": [],
   "source": [
    "movie_data[\"Actors\"] = [[actor.strip() for actor in actors.split(\",\")] if pd.notna(actors) else float('nan') for actors in movie_data[\"Actors\"]]\n",
    "movie_data[\"Genre\"] = [[genre.strip() for genre in genres.split(\",\")] if pd.notna(genres) else float('nan') for genres in movie_data[\"Genre\"]]                                   \n",
    "movie_data"
   ]
  },
  {
   "cell_type": "code",
   "execution_count": null,
   "metadata": {},
   "outputs": [],
   "source": [
    "genres = [\"Action\", \"Adventure\", \"Animation\", \"Biography\", \"Comedy\", \"Crime\", \n",
    "            \"Documentary\", \"Drama\", \"Family\", \"Fantasy\", \"Film Noir\", \"History\", \"Horror\",\n",
    "            \"Music\", \"Musical\", \"Mystery\", \"Romance\", \"Sci-Fi\", \"Short\", \"Sport\", \"Superhero\", \n",
    "            \"Thriller\", \"War\", \"Western\"]    \n",
    "    \n",
    "for movie in movie_data.itertuples():\n",
    "    try:\n",
    "        for genre in genres:\n",
    "            if genre in movie[15]:\n",
    "                movie_data.at[movie.Index, genre] = 1\n",
    "            else: \n",
    "                movie_data.at[movie.Index, genre] = 0\n",
    "    except:\n",
    "        pass\n",
    "    \n",
    "movie_data"
   ]
  },
  {
   "cell_type": "code",
   "execution_count": null,
   "metadata": {},
   "outputs": [],
   "source": [
    "actors_df = pd.read_csv(\"Actors_Data.csv\")\n",
    "actors_df.head()"
   ]
  },
  {
   "cell_type": "code",
   "execution_count": null,
   "metadata": {},
   "outputs": [],
   "source": [
    "for row in movie_data.itertuples():\n",
    "    if pd.notna(row):\n",
    "        counter_tg = 0\n",
    "        counter_nm = 0\n",
    "        counter_g = 0\n",
    "        counter_a = 0\n",
    "        \n",
    "        try:\n",
    "            \n",
    "#             print(actors_df.loc[actors_df[\"Person\"] == row[18][0], \"Total Gross\"].item())\n",
    "            actor_one_tg = actors_df.loc[actors_df[\"Person\"] == row[18][0], \"Total Gross\"].item()\n",
    "            actor_one_nm = actors_df.loc[actors_df[\"Person\"] == row[18][0], \"Number of Movies\"].item()\n",
    "            actor_one_g = actors_df.loc[actors_df[\"Person\"] == row[18][0], \"Gross\"].item()\n",
    "            \n",
    "            counter_tg = counter_tg + actor_one_tg\n",
    "            counter_nm = counter_nm + actor_one_nm\n",
    "            counter_g = counter_g + actor_one_g\n",
    "            counter_a = counter_a + 1\n",
    "\n",
    "        except:\n",
    "            pass\n",
    "        \n",
    "        try:\n",
    "#             print(actors_df.loc[actors_df[\"Person\"] == row[18][1], \"Total Gross\"].item())\n",
    "            actor_two_tg = actors_df.loc[actors_df[\"Person\"] == row[18][1], \"Total Gross\"].item()\n",
    "            actor_two_nm = actors_df.loc[actors_df[\"Person\"] == row[18][1], \"Number of Movies\"].item()\n",
    "            actor_two_g = actors_df.loc[actors_df[\"Person\"] == row[18][1], \"Gross\"].item()\n",
    "            \n",
    "            counter_tg = counter_tg + actor_two_tg\n",
    "            counter_nm = counter_nm + actor_two_nm\n",
    "            counter_g = counter_g + actor_two_g\n",
    "            counter_a = counter_a + 1\n",
    "            \n",
    "        except:\n",
    "            pass\n",
    "        \n",
    "        try:\n",
    "#             print(actors_df.loc[actors_df[\"Person\"] == row[18][2], \"Total Gross\"].item())\n",
    "            actor_three_tg = actors_df.loc[actors_df[\"Person\"] == row[18][2], \"Total Gross\"].item()\n",
    "            actor_three_nm = actors_df.loc[actors_df[\"Person\"] == row[18][2], \"Number of Movies\"].item()\n",
    "            actor_three_g = actors_df.loc[actors_df[\"Person\"] == row[18][2], \"Gross\"].item()\n",
    "            \n",
    "            counter_tg = counter_tg + actor_three_tg\n",
    "            counter_nm = counter_nm + actor_three_nm\n",
    "            counter_g = counter_g + actor_three_g\n",
    "            counter_a = counter_a + 1\n",
    "            \n",
    "        except:\n",
    "            pass\n",
    "        \n",
    "        try:\n",
    "#             print(actors_df.loc[actors_df[\"Person\"] == row[18][3], \"Total Gross\"].item())\n",
    "            actor_four_tg = actors_df.loc[actors_df[\"Person\"] == row[18][3], \"Total Gross\"].item()\n",
    "            actor_four_nm = actors_df.loc[actors_df[\"Person\"] == row[18][3], \"Number of Movies\"].item()\n",
    "            actor_four_g = actors_df.loc[actors_df[\"Person\"] == row[18][3], \"Gross\"].item()\n",
    "            \n",
    "            counter_tg = counter_tg + actor_four_tg\n",
    "            counter_nm = counter_nm + actor_four_nm\n",
    "            counter_g = counter_g + actor_four_g\n",
    "            counter_a = counter_a + 1\n",
    "           \n",
    "        except:\n",
    "            pass\n",
    "       \n",
    "        if counter_tg != 0:\n",
    "            movie_data.at[row.Index, \"Actors Avg Total Gross\"] = counter_tg/ counter_a\n",
    "            movie_data.at[row.Index, \"Actors Avg Number of Movies\"] = counter_nm/ counter_a\n",
    "            movie_data.at[row.Index, \"Actors Avg Best Picture Gross\"] = counter_g/ counter_a\n",
    "        \n",
    "movie_data       "
   ]
  },
  {
   "cell_type": "code",
   "execution_count": null,
   "metadata": {},
   "outputs": [],
   "source": [
    "directors_df = pd.read_csv(\"director.csv\")\n",
    "directors_df.head()"
   ]
  },
  {
   "cell_type": "code",
   "execution_count": null,
   "metadata": {},
   "outputs": [],
   "source": [
    "for col in ['Total_Gross','BestPic_Gross']:\n",
    "    directors_df[col]= directors_df[col].replace({'\\$': '',',': ''}, regex=True)\n",
    "    directors_df[col]=[ float(x.replace('k', \"\")) * 1000 if 'k' in x else float(x)* 1000000  for x in directors_df[col]]\n",
    "    \n",
    "directors_df.head()"
   ]
  },
  {
   "cell_type": "code",
   "execution_count": null,
   "metadata": {},
   "outputs": [],
   "source": [
    "directors_df.columns"
   ]
  },
  {
   "cell_type": "code",
   "execution_count": null,
   "metadata": {},
   "outputs": [],
   "source": [
    "movie_data = movie_data.merge(directors_df[['Total_Gross','No_Of_Movies', 'BestPic_Gross','DirectorName']], left_on='Director', right_on='DirectorName', how='left')\n",
    "movie_data\n",
    "\n",
    "# df1.merge(df2, left_on='lkey', right_on='rkey')"
   ]
  },
  {
   "cell_type": "code",
   "execution_count": null,
   "metadata": {},
   "outputs": [],
   "source": [
    "movie_data = movie_data.rename(columns={\"Total_Gross\": \"Director Total Gross\", \"No_Of_Movies\": \"Director Number of Movies\", \"BestPic_Gross\" : \"Director Best Picture Gross\" }).drop(columns=['DirectorName'])\n",
    "movie_data"
   ]
  },
  {
   "cell_type": "code",
   "execution_count": null,
   "metadata": {},
   "outputs": [],
   "source": [
    "movie_titles = movie_data[\"Movie Title\"].tolist()\n",
    "movie_titles"
   ]
  },
  {
   "cell_type": "code",
   "execution_count": null,
   "metadata": {
    "scrolled": true
   },
   "outputs": [],
   "source": [
    "analyzer = SentimentIntensityAnalyzer()\n",
    "vs_list = [analyzer.polarity_scores(title) for title in movie_titles]\n",
    "\n",
    "movie_data[\"Title Negative Sentiment\"] = [vs[\"neg\"] for vs in vs_list]\n",
    "movie_data[\"Title Neutral Sentiment\"] = [vs[\"neu\"] for vs in vs_list]\n",
    "movie_data[\"Title Positive Sentiment\"] = [vs[\"pos\"] for vs in vs_list]\n",
    "movie_data[\"Title Compound Sentiment\"] = [vs[\"compound\"] for vs in vs_list]\n",
    "\n",
    "movie_data.head()"
   ]
  },
  {
   "cell_type": "code",
   "execution_count": null,
   "metadata": {},
   "outputs": [],
   "source": [
    "def most_frequent_colour(url):\n",
    "    \n",
    "    try:                                           \n",
    "        resp = urllib.request.urlopen(url)\n",
    "        image = Image.open(resp)\n",
    "        w, h = image.size\n",
    "        pixels = image.getcolors(w * h)\n",
    "\n",
    "        most_frequent_pixel = pixels[0]\n",
    "\n",
    "        for count, colour in pixels:\n",
    "            if count > most_frequent_pixel[0]:\n",
    "                most_frequent_pixel = (count, colour)\n",
    "        peak = most_frequent_pixel[1]\n",
    "\n",
    "        HLS = colorsys.rgb_to_hls(peak[0]/255.0,peak[1]/255.0,peak[2]/255.0)\n",
    "\n",
    "        hueAngle = HLS[0]*360\n",
    "\n",
    "        # Lightness\n",
    "        if (HLS[1] < 0.2):\n",
    "            myDominantColor = \"Black\"\n",
    "        elif (HLS[1] > 0.8):\n",
    "            myDominantColor = \"White\"\n",
    "        # saturation\n",
    "        elif (HLS[2] < 0.25):\n",
    "            myDominantColor = \"Gray\"\n",
    "        # hue\n",
    "        elif (hueAngle < 30):\n",
    "            myDominantColor = \"Red\"\n",
    "        elif (hueAngle < 90):\n",
    "            myDominantColor = \"Yellow\"\n",
    "        elif (hueAngle < 150):\n",
    "            myDominantColor = \"Green\"\n",
    "        elif (hueAngle < 210):\n",
    "            myDominantColor = \"Cyan\"\n",
    "        elif (hueAngle < 270):\n",
    "            myDominantColor = \"Blue\"\n",
    "        elif (hueAngle < 330):\n",
    "            myDominantColor = \"Magenta\"\n",
    "        else:\n",
    "            myDominantColor = \"Red\"\n",
    "\n",
    "        return myDominantColor\n",
    "    \n",
    "    except:\n",
    "        return float('nan')\n",
    "\n",
    "# na_action='ignore'\n",
    "movie_data['Poster Color'] = movie_data[\"Poster\"].apply(most_frequent_colour)\n"
   ]
  },
  {
   "cell_type": "code",
   "execution_count": null,
   "metadata": {},
   "outputs": [],
   "source": [
    "# import cv2\n",
    "# faceCascade = cv2.CascadeClassifier('haarcascade_frontalface_default.xml')\n",
    "# img=np.array(image)\n",
    "# gray = cv2.cvtColor(img, cv2.COLOR_BGR2GRAY)\n",
    "# faces = faceCascade.detectMultiScale(\n",
    "#     gray,\n",
    "#     scaleFactor=1.3,\n",
    "#     minNeighbors=5\n",
    "# )\n",
    "\n",
    "# print(len(faces))\n",
    "\n"
   ]
  },
  {
   "cell_type": "code",
   "execution_count": null,
   "metadata": {},
   "outputs": [],
   "source": [
    "movie_data.to_csv(\"Movie_Data_Updated.csv\")\n",
    "movie_data.head()"
   ]
  },
  {
   "cell_type": "code",
   "execution_count": null,
   "metadata": {},
   "outputs": [],
   "source": [
    "movie_data_updated = pd.read_csv(\"Movie_Data_Updated.csv\")\n",
    "movie_data_updated = movie_data_updated.drop('Unnamed: 0', axis=1)\n",
    "movie_data_updated"
   ]
  },
  {
   "cell_type": "code",
   "execution_count": null,
   "metadata": {},
   "outputs": [],
   "source": [
    "colors = [\"Black\", \"White\", \"Gray\", \"Red\", \"Yellow\", \"Green\", \n",
    "            \"Cyan\", \"Blue\", \"Magenta\", \"Red\"]    \n",
    "    \n",
    "for poster in movie_data_updated.itertuples():\n",
    "    try:\n",
    "        if pd.notna(poster[67]):\n",
    "            for color in colors:\n",
    "                if color == poster[67]:\n",
    "                    movie_data_updated.at[poster.Index, color] = 1\n",
    "                else: \n",
    "                    movie_data_updated.at[poster.Index, color] = 0\n",
    "    except:\n",
    "        pass\n",
    "    \n",
    "movie_data_updated"
   ]
  },
  {
   "cell_type": "code",
   "execution_count": null,
   "metadata": {},
   "outputs": [],
   "source": [
    "\n",
    "\n",
    "def RottenTomatoesScore(colVal):\n",
    "    dictRot=literal_eval(colVal)\n",
    "    if len(dictRot)<1:\n",
    "        return float('nan')\n",
    "\n",
    "    try:\n",
    "        value = dictRot[1]\n",
    "    except IndexError:\n",
    "         return float(\"nan\")\n",
    "\n",
    "    if value[\"Source\"] == 'Rotten Tomatoes':\n",
    "         return float(value['Value'].replace(\"%\",\"\"))\n",
    "    else: \n",
    "        return float('nan')\n",
    "    \n",
    "    \n",
    "\n",
    "movie_data_updated[\"Rotten Tomatoes Score\"] = movie_data_updated[\"Ratings\"].apply(RottenTomatoesScore )\n",
    "\n",
    "movie_data_updated.head()\n"
   ]
  },
  {
   "cell_type": "code",
   "execution_count": null,
   "metadata": {},
   "outputs": [],
   "source": [
    "movie_data_updated=movie_data_updated.rename(columns={\"Runtime\":'Runtime in Min', \"Open\":\"Opening Day Date\", \n",
    " \"O Theaters\":\"Opening Theaters\", \"Opening\":\"Opening Gross Amount\", \"TG Theaters\":\"Total Theaters\"})\n",
    "\n",
    "movie_data_updated[\"Rank\"]=movie_data_updated[\"Rank\"].astype(float)\n",
    "movie_data_updated[\"Total Gross\"]=movie_data_updated[\"Total Gross\"].replace({'\\$': '',',': ''}, regex=True).astype(float)\n",
    "movie_data_updated[\"Opening Gross Amount\"]=movie_data_updated[\"Opening Gross Amount\"].replace({'\\$': '',',': ''}, regex=True).astype(float)\n",
    "movie_data_updated[\"imdbVotes\"]=movie_data_updated[\"imdbVotes\"].replace({'\\$': '',',': ''}, regex=True).astype(float)\n",
    "movie_data_updated[\"Runtime in Min\"]=movie_data_updated[\"Runtime in Min\"].str.rstrip(\" min\").astype(float)\n"
   ]
  },
  {
   "cell_type": "code",
   "execution_count": null,
   "metadata": {},
   "outputs": [],
   "source": [
    "movie_data_updated.dtypes"
   ]
  },
  {
   "cell_type": "code",
   "execution_count": null,
   "metadata": {},
   "outputs": [],
   "source": [
    "def scale(var):\n",
    "    return (10 - 1) / (var.max() - var.min()) * (var - var.max()) + 10\n",
    "\n",
    "movie_data_updated[\"Metascore\"] = scale(movie_data_updated[\"Metascore\"])\n",
    "movie_data_updated[\"imdbRating\"] = scale(movie_data_updated[\"imdbRating\"])\n",
    "movie_data_updated[\"Rotten Tomatoes Score\"] = scale(movie_data_updated[\"Rotten Tomatoes Score\"])\n",
    "\n",
    "movie_data_updated.head()"
   ]
  },
  {
   "cell_type": "code",
   "execution_count": null,
   "metadata": {},
   "outputs": [],
   "source": [
    "movie_data_updated.to_csv(\"Movie_Data_Final.csv\")"
   ]
  },
  {
   "cell_type": "code",
   "execution_count": null,
   "metadata": {},
   "outputs": [],
   "source": [
    "mlone = movie_data_updated[[\"Runtime in Min\", \"Action\", \"Adventure\", \"Animation\", \"Biography\", \"Comedy\", \"Crime\", \n",
    "            \"Documentary\", \"Drama\", \"Family\", \"Fantasy\", \"Film Noir\", \"History\", \"Horror\",\n",
    "            \"Music\", \"Musical\", \"Mystery\", \"Romance\", \"Sci-Fi\", \"Short\", \"Sport\", \"Superhero\", \n",
    "            \"Thriller\", \"War\", \"Western\", \"Actors Avg Total Gross\", \"Actors Avg Number of Movies\", \n",
    "            \"Actors Avg Best Picture Gross\", \"Director Total Gross\", \"Director Number of Movies\", \"Director Best Picture Gross\",\n",
    "            \"Title Compound Sentiment\", \"Black\", \"White\", \"Gray\", \"Red\", \"Yellow\", \"Green\", \n",
    "            \"Cyan\", \"Blue\", \"Magenta\", \"Red\", \"imdbRating\"]].dropna()\n",
    "mlone = mlone.reset_index(drop=True)"
   ]
  },
  {
   "cell_type": "code",
   "execution_count": null,
   "metadata": {},
   "outputs": [],
   "source": [
    "X = mlone[[\"Runtime in Min\", \"Action\", \"Adventure\", \"Animation\", \"Biography\", \"Comedy\", \"Crime\", \n",
    "            \"Documentary\", \"Drama\", \"Family\", \"Fantasy\", \"Film Noir\", \"History\", \"Horror\",\n",
    "            \"Music\", \"Musical\", \"Mystery\", \"Romance\", \"Sci-Fi\", \"Short\", \"Sport\", \"Superhero\", \n",
    "            \"Thriller\", \"War\", \"Western\", \"Actors Avg Total Gross\", \"Actors Avg Number of Movies\", \n",
    "            \"Actors Avg Best Picture Gross\", \"Director Total Gross\", \"Director Number of Movies\", \"Director Best Picture Gross\",\n",
    "            \"Title Compound Sentiment\", \"Black\", \"White\", \"Gray\", \"Red\", \"Yellow\", \"Green\", \n",
    "            \"Cyan\", \"Blue\", \"Magenta\", \"Red\"]]\n",
    "y = mlone[[\"imdbRating\"]].values.reshape(-1, 1)\n",
    "\n"
   ]
  },
  {
   "cell_type": "code",
   "execution_count": null,
   "metadata": {},
   "outputs": [],
   "source": [
    "from sklearn.model_selection import train_test_split\n",
    "\n",
    "X_train, X_test, y_train, y_test = train_test_split(X, y, random_state=42)"
   ]
  },
  {
   "cell_type": "code",
   "execution_count": null,
   "metadata": {},
   "outputs": [],
   "source": [
    "from sklearn.linear_model import LinearRegression\n",
    "model = LinearRegression()"
   ]
  },
  {
   "cell_type": "code",
   "execution_count": null,
   "metadata": {},
   "outputs": [],
   "source": [
    "model.fit(X_train, y_train)\n",
    "training_score = model.score(X_train, y_train)\n",
    "testing_score = model.score(X_test, y_test)\n",
    "\n",
    "print(f\"Training Score: {training_score}\")\n",
    "print(f\"Testing Score: {testing_score}\")"
   ]
  },
  {
   "cell_type": "code",
   "execution_count": null,
   "metadata": {},
   "outputs": [],
   "source": [
    "plt.scatter(model.predict(X_train), model.predict(X_train) - y_train, c=\"blue\", label=\"Training Data\")\n",
    "plt.scatter(model.predict(X_test), model.predict(X_test) - y_test, c=\"orange\", label=\"Testing Data\")\n",
    "plt.legend()\n",
    "plt.hlines(y=0, xmin=y.min(), xmax=y.max())\n",
    "plt.title(\"Residual Plot\")"
   ]
  },
  {
   "cell_type": "code",
   "execution_count": null,
   "metadata": {},
   "outputs": [],
   "source": [
    "movie_data_updated.columns = [c.lower().replace(' ', '_') for c in movie_data_updated.columns]"
   ]
  },
  {
   "cell_type": "code",
   "execution_count": 3,
   "metadata": {},
   "outputs": [
    {
     "ename": "NameError",
     "evalue": "name 'movie_data_updated' is not defined",
     "output_type": "error",
     "traceback": [
      "\u001b[0;31m---------------------------------------------------------------------------\u001b[0m",
      "\u001b[0;31mNameError\u001b[0m                                 Traceback (most recent call last)",
      "\u001b[0;32m<ipython-input-3-3986ab37ac27>\u001b[0m in \u001b[0;36m<module>\u001b[0;34m\u001b[0m\n\u001b[0;32m----> 1\u001b[0;31m \u001b[0mmovie_data_updated\u001b[0m\u001b[0;34m.\u001b[0m\u001b[0mhead\u001b[0m\u001b[0;34m(\u001b[0m\u001b[0;34m)\u001b[0m\u001b[0;34m\u001b[0m\u001b[0;34m\u001b[0m\u001b[0m\n\u001b[0m",
      "\u001b[0;31mNameError\u001b[0m: name 'movie_data_updated' is not defined"
     ]
    }
   ],
   "source": [
    "movie_data_updated.head()"
   ]
  },
  {
   "cell_type": "code",
   "execution_count": null,
   "metadata": {},
   "outputs": [],
   "source": []
  }
 ],
 "metadata": {
  "kernelspec": {
   "display_name": "Python 3",
   "language": "python",
   "name": "python3"
  },
  "language_info": {
   "codemirror_mode": {
    "name": "ipython",
    "version": 3
   },
   "file_extension": ".py",
   "mimetype": "text/x-python",
   "name": "python",
   "nbconvert_exporter": "python",
   "pygments_lexer": "ipython3",
   "version": "3.7.3"
  }
 },
 "nbformat": 4,
 "nbformat_minor": 2
}
